{
 "cells": [
  {
   "cell_type": "code",
   "execution_count": 18,
   "id": "ecc3522b-5687-4b85-bf92-53c125f2782b",
   "metadata": {},
   "outputs": [
    {
     "ename": "FileExistsError",
     "evalue": "[Errno 17] File exists: '/Users/vaibhavsingh/Downloads/monuments/'",
     "output_type": "error",
     "traceback": [
      "\u001b[0;31m---------------------------------------------------------------------------\u001b[0m",
      "\u001b[0;31mFileExistsError\u001b[0m                           Traceback (most recent call last)",
      "\u001b[0;32m/var/folders/x9/cbznkgps2wq_2ymqk_sl_9200000gn/T/ipykernel_4087/1319880832.py\u001b[0m in \u001b[0;36m<module>\u001b[0;34m\u001b[0m\n\u001b[1;32m      2\u001b[0m \u001b[0moriginal_dataset_dir\u001b[0m \u001b[0;34m=\u001b[0m \u001b[0;34m'/Users/vaibhavsingh/Downloads/data_Set_monuments/'\u001b[0m\u001b[0;34m\u001b[0m\u001b[0;34m\u001b[0m\u001b[0m\n\u001b[1;32m      3\u001b[0m \u001b[0mbase_dir\u001b[0m \u001b[0;34m=\u001b[0m \u001b[0;34m'/Users/vaibhavsingh/Downloads/monuments/'\u001b[0m\u001b[0;34m\u001b[0m\u001b[0;34m\u001b[0m\u001b[0m\n\u001b[0;32m----> 4\u001b[0;31m \u001b[0mos\u001b[0m\u001b[0;34m.\u001b[0m\u001b[0mmkdir\u001b[0m\u001b[0;34m(\u001b[0m\u001b[0mbase_dir\u001b[0m\u001b[0;34m)\u001b[0m\u001b[0;34m\u001b[0m\u001b[0;34m\u001b[0m\u001b[0m\n\u001b[0m",
      "\u001b[0;31mFileExistsError\u001b[0m: [Errno 17] File exists: '/Users/vaibhavsingh/Downloads/monuments/'"
     ]
    }
   ],
   "source": [
    "import os\n",
    "original_dataset_dir = '/Users/vaibhavsingh/Downloads/data_Set_monuments/'\n",
    "base_dir = '/Users/vaibhavsingh/Downloads/monuments/'\n",
    "os.mkdir(base_dir)"
   ]
  },
  {
   "cell_type": "code",
   "execution_count": 3,
   "id": "6ad8a951-0c9c-4670-8973-de83608c1d93",
   "metadata": {},
   "outputs": [],
   "source": [
    "#create two folders (train and validation)\n",
    "train_dir = os.path.join(base_dir, 'train')\n",
    "os.mkdir(train_dir)\n",
    "\n",
    "validation_dir = os.path.join(base_dir, 'validation')\n",
    "os.mkdir(validation_dir)\n",
    "\n",
    "#Under train folder create five folders \n",
    "# (cloud, folly, rainy, shine, sunrise)\n",
    "\n",
    "train_AKSHARDHAM_IMAGES = os.path.join(train_dir, 'AKSHARDHAM_IMAGES')\n",
    "os.mkdir(train_AKSHARDHAM_IMAGES)\n",
    "\n",
    "train_loutus_temple = os.path.join(train_dir, 'loutus_temple')\n",
    "os.mkdir(train_loutus_temple)\n",
    "\n",
    "train_RED_FORT = os.path.join(train_dir, 'RED FORT')\n",
    "os.mkdir(train_RED_FORT)\n",
    "\n",
    "train_india_gate = os.path.join(train_dir, 'india_gate')\n",
    "os.mkdir(train_india_gate)\n",
    "\n",
    "# train_sunrise_dir = os.path.join(train_dir, 'qutub_minar')\n",
    "# os.mkdir(train_sunrise_dir)\n",
    "\n",
    "#Under validation folder create five folders \n",
    "# (cloud, folly, rainy, shine, sunrise)\n",
    "\n",
    "validation_AKSHARDHAM_IMAGES = os.path.join(validation_dir, 'AKSHARDHAM_IMAGES')\n",
    "os.mkdir(validation_AKSHARDHAM_IMAGES)\n",
    "\n",
    "validation_loutus_temple = os.path.join(validation_dir, 'loutus_temple')\n",
    "os.mkdir(validation_loutus_temple)\n",
    "\n",
    "validation_RED_FORT = os.path.join(validation_dir, 'RED FORT')\n",
    "os.mkdir(validation_RED_FORT)\n",
    "\n",
    "\n",
    "validation_india_gate = os.path.join(validation_dir, 'india_gate')\n",
    "os.mkdir(validation_india_gate)\n",
    "\n",
    "# validation_sunrise_dir = os.path.join(validation_dir, 'sunrise')\n",
    "# os.mkdir(validation_sunrise_dir)"
   ]
  },
  {
   "cell_type": "code",
   "execution_count": 4,
   "id": "2749eb3d-500a-4fb3-b083-10e8d0257742",
   "metadata": {},
   "outputs": [],
   "source": [
    "def split_data(SOURCE, TRAINING, VALIDATION, SPLIT_SIZE):\n",
    "    files = []\n",
    "    for filename in os.listdir(SOURCE):\n",
    "        file = SOURCE + filename\n",
    "        if os.path.getsize(file) > 0:\n",
    "            files.append(filename)\n",
    "        else:\n",
    "            print(filename + \" is zero length, so ignoring.\")\n",
    "\n",
    "    training_length = int(len(files) * SPLIT_SIZE)\n",
    "    valid_length = int(len(files) - training_length)\n",
    "    shuffled_set = random.sample(files, len(files))\n",
    "    training_set = shuffled_set[0:training_length]\n",
    "    valid_set = shuffled_set[training_length:]\n",
    "\n",
    "    for filename in training_set:\n",
    "        this_file = SOURCE + filename\n",
    "        destination = TRAINING + filename\n",
    "        copyfile(this_file, destination)\n",
    "\n",
    "    for filename in valid_set:\n",
    "        this_file = SOURCE + filename\n",
    "        destination = VALIDATION + filename\n",
    "        copyfile(this_file, destination)"
   ]
  },
  {
   "cell_type": "code",
   "execution_count": 21,
   "id": "f7f8d527-2038-4325-9967-823c96cb4f9c",
   "metadata": {},
   "outputs": [],
   "source": [
    "AKSHARDHAM_IMAGES_DIR = 'Downloads/data_Set_monuments/AKSHARDHAM_IMAGES/'\n",
    "TRAINING_akshardham_DIR = 'Downloads/monuments/train/AKSHARDHAM_IMAGES/'\n",
    "VALID_akshardham_DIR = 'Downloads/monuments/validation/AKSHARDHAM_IMAGES/'"
   ]
  },
  {
   "cell_type": "code",
   "execution_count": 14,
   "id": "2f9199a0-8892-48c4-8619-ae1e1631512a",
   "metadata": {},
   "outputs": [],
   "source": [
    "loutus_temple_DIR = 'Downloads/data_Set_monuments/loutus_temple/'\n",
    "TRAINING_lotus_temple_DIR = 'Downloads/monuments/train/loutus_temple/'\n",
    "VALID_lotus_temple_DIR = 'Downloads/monuments/validation/'"
   ]
  },
  {
   "cell_type": "code",
   "execution_count": 15,
   "id": "072ad88b-42b1-41b9-8c39-a3f0cbb4b378",
   "metadata": {},
   "outputs": [],
   "source": [
    "india_gate_DIR = 'Downloads/data_Set_monuments/india_gate/'\n",
    "TRAINING_india_gate_temple_DIR = 'Downloads/monuments/train/india_gate/'\n",
    "VALID_india_gate_DIR = 'Downloads/monuments/validation/india_gate/'"
   ]
  },
  {
   "cell_type": "code",
   "execution_count": 16,
   "id": "f3208bc9-c237-4eea-bf9f-e32921913c6d",
   "metadata": {},
   "outputs": [],
   "source": [
    "red_fort_DIR = 'Downloads/data_Set_monuments/RED FORT/'\n",
    "TRAINING_red_fort_temple_DIR = 'Downloads/monuments/train/RED FORT/'\n",
    "VALID_red_fort_DIR = 'Downloads/monuments/validation/RED FORT/'"
   ]
  },
  {
   "cell_type": "code",
   "execution_count": 22,
   "id": "2f0a2ddd-0e70-4cf7-aac1-db5cc7b97629",
   "metadata": {},
   "outputs": [],
   "source": [
    "import os\n",
    "import random\n",
    "from shutil import copyfile\n",
    "\n",
    "split_size = .85\n",
    "\n",
    "split_data(AKSHARDHAM_IMAGES_DIR, TRAINING_akshardham_DIR, VALID_akshardham_DIR, split_size)\n",
    "split_data(loutus_temple_DIR, TRAINING_lotus_temple_DIR, VALID_lotus_temple_DIR, split_size)\n",
    "split_data(india_gate_DIR,TRAINING_india_gate_temple_DIR, VALID_india_gate_DIR, split_size)\n",
    "split_data(red_fort_DIR, TRAINING_red_fort_temple_DIR, VALID_red_fort_DIR, split_size)\n",
    "#split_data(SUNRISE_SOURCE_DIR, TRAINING_SUNRISE_DIR, VALID_SUNRISE_DIR, split_size)"
   ]
  },
  {
   "cell_type": "code",
   "execution_count": null,
   "id": "9cfdb8f8-253f-4cef-8985-cd51efbe78af",
   "metadata": {},
   "outputs": [],
   "source": []
  }
 ],
 "metadata": {
  "kernelspec": {
   "display_name": "Python 3 (ipykernel)",
   "language": "python",
   "name": "python3"
  },
  "language_info": {
   "codemirror_mode": {
    "name": "ipython",
    "version": 3
   },
   "file_extension": ".py",
   "mimetype": "text/x-python",
   "name": "python",
   "nbconvert_exporter": "python",
   "pygments_lexer": "ipython3",
   "version": "3.9.7"
  }
 },
 "nbformat": 4,
 "nbformat_minor": 5
}
